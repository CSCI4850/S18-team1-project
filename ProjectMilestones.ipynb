{
 "cells": [
  {
   "cell_type": "markdown",
   "metadata": {},
   "source": [
    "### Project MileStone 1\n",
    "\n",
    "| Deliverable | Percent Complete | Estivated Completion Date | Percent Complete by Next Milestone|\n",
    "|:----------- |:---------------- |:------------------------- |:--------------------------------- |\n",
    "| Code | 50% | Apr. 12 | 80% |\n",
    "| Paper | 0% | Apr. 17 | 30% |\n",
    "| Demo | 0% | Apr. 26 | 10% |\n",
    "| Presentation | 0% | Apr. 26 | 10% |\n",
    "\n",
    "1. Since the beginning of the project, our group has a python program that will run the game, and a first draft of a DQN agent.\n",
    "\n",
    "2. There were no goals set for this milestone.\n",
    "\n",
    "3. Adam, Patrick, and Eric will be working on finishing the DQN agent and getting the code to the training stage.\n",
    "    \n",
    "    Kevin, Ben, and Garret will be working on researching for the paper, demo, and presentation.  The goal is to get each of those items through the broader portion of the research phase.  For the demo and presentation we will be brainstorming and researching effective formating styles for both.\n",
    "    \n"
   ]
  }
 ],
 "metadata": {
  "kernelspec": {
   "display_name": "Python 3",
   "language": "python",
   "name": "python3"
  },
  "language_info": {
   "codemirror_mode": {
    "name": "ipython",
    "version": 3
   },
   "file_extension": ".py",
   "mimetype": "text/x-python",
   "name": "python",
   "nbconvert_exporter": "python",
   "pygments_lexer": "ipython3",
   "version": "3.5.3"
  }
 },
 "nbformat": 4,
 "nbformat_minor": 2
}
