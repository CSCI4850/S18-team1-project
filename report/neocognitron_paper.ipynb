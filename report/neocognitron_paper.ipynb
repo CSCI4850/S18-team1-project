{
 "cells": [
  {
   "cell_type": "raw",
   "metadata": {},
   "source": [
    "% PACKAGES INCLUDED HERE \n",
    "% DO NOT NEED TO CHANGE\n",
    "\\documentclass[conference]{IEEEtran}\n",
    "%\\IEEEoverridecommandlockouts\n",
    "% The preceding line is only needed to identify funding in the first footnote. If that is unneeded, please comment it out.\n",
    "\\usepackage{cite}\n",
    "\\usepackage{amsmath,amssymb,amsfonts}\n",
    "\\usepackage{algorithmic}\n",
    "\\usepackage{graphicx}\n",
    "\\usepackage{textcomp}\n",
    "\\def\\BibTeX{{\\rm B\\kern-.05em{\\sc i\\kern-.025em b}\\kern-.08em\n",
    "    T\\kern-.1667em\\lower.7ex\\hbox{E}\\kern-.125emX}}\n",
    "\\begin{document}"
   ]
  },
  {
   "cell_type": "raw",
   "metadata": {},
   "source": [
    "% TITLE GOES HERE\n",
    "\n",
    "\\title{Toward a Deep Reinforcement Neural Network Capable of Playing Breakout}\n"
   ]
  },
  {
   "cell_type": "raw",
   "metadata": {},
   "source": [
    "% AUTHOR NAMES GOES HERE\n",
    "\n",
    "\\author{\\IEEEauthorblockN{1\\textsuperscript{st} Adam Mischke}\n",
    "\\IEEEauthorblockA{\\textit{Computer Science Undergraduate} \\\\\n",
    "\\textit{Middle Tennessee State University}\\\\\n",
    "Murfreesboro, TN, USA \\\\}\n",
    "\\and\n",
    "\\IEEEauthorblockN{2\\textsuperscript{nd} Patrick Howell}\n",
    "\\IEEEauthorblockA{\\textit{Computer Science Undergraduate} \\\\\n",
    "\\textit{Middle Tennessee State University}\\\\\n",
    "Murfreesboro, TN, USA \\\\}\n",
    "\\and\n",
    "\\IEEEauthorblockN{3\\textsuperscript{rd} Eric Sciullo}\n",
    "\\IEEEauthorblockA{\\textit{Computer Science Undergraduate} \\\\\n",
    "\\textit{Middle Tennessee State University}\\\\\n",
    "Murfreesboro, TN, USA \\\\}\n",
    "\\and\n",
    "\\IEEEauthorblockN{4\\textsuperscript{th} Kevin Lutz}\n",
    "\\IEEEauthorblockA{\\textit{Computer Science Undergraduate} \\\\\n",
    "\\textit{Middle Tennessee State University}\\\\\n",
    "Murfreesboro, TN, USA \\\\}\n",
    "\\and\n",
    "\\IEEEauthorblockN{5\\textsuperscript{th} Benjamin H. Buehler}\n",
    "\\IEEEauthorblockA{\\textit{Computer Science Undergraduate} \\\\\n",
    "\\textit{Middle Tennessee State University}\\\\\n",
    "Murfreesboro, TN, USA \\\\}\n",
    "\\and\n",
    "\\IEEEauthorblockN{6\\textsuperscript{th} Garrett Coulter}\n",
    "\\IEEEauthorblockA{\\textit{Computer Science Undergraduate} \\\\\n",
    "\\textit{Middle Tennessee State University}\\\\\n",
    "Murfreesboro, TN, USA \\\\}\n",
    "}\n",
    "\n",
    "\\maketitle"
   ]
  },
  {
   "cell_type": "raw",
   "metadata": {},
   "source": [
    "% ABSTRACT \n",
    "\n",
    "\\begin{abstract}\n",
    "This document is a model and instructions for \\LaTeX.\n",
    "This and the IEEEtran.cls file define the components of your paper [title, text, heads, etc.]. *CRITICAL: Do Not Use Symbols, Special Characters, Footnotes, \n",
    "or Math in Paper Title or Abstract.\n",
    "\\end{abstract}\n"
   ]
  },
  {
   "cell_type": "raw",
   "metadata": {},
   "source": [
    "% KEYWORDS\n",
    "\n",
    "\\begin{IEEEkeywords}\n",
    "deep learning, Atari, Breakout, reinforcement learning, neural nets, DQN Agent, Q function, artificial intellegence, AI, python, Open AI Gym, Arcade Learning Environment\n",
    "\\end{IEEEkeywords}"
   ]
  },
  {
   "cell_type": "raw",
   "metadata": {},
   "source": [
    "% INTRODUCTION SECTION\n",
    "\\section{Introduction}\n",
    "\n",
    "Start typing here \\cite{AiGym}."
   ]
  },
  {
   "cell_type": "raw",
   "metadata": {},
   "source": [
    "% BACKGROUND SECTION\n",
    "\\section{Background}\n",
    "\n",
    "Start typing here \\cite{AiGym}."
   ]
  },
  {
   "cell_type": "raw",
   "metadata": {},
   "source": [
    "% METHODS SECTION\n",
    "\\section{Methods}\n",
    "\\subsection*{Environment}\n",
    "We are using 'BreakoutDeterministic-v4' in Open AI Gym. \\cite{AiGym} The Atari environments in Open AI Gym use the Arcade Learning Environment. \\cite{AiGym}\\cite{ALE} Open AI Gym and the Arcade Learning Environment provide a useful way of accessing game data as input for a neural network. \\cite{AiGym}\\cite{ALE} We accessed only pixel data from this environment and not internal game states.\n",
    "\n",
    "\\subsection*{Input Processing}\n",
    "We downconverted the images to 84x84 grayscale from a 210x160 rgb image in a similar manner to what was done by Mnih et al. for their DQN network. \\cite{HumLevCon} We threw away all but every 4th frame in process called frame skipping commonly used to decrease training time in video game playing agents. \\cite{HumLevCon} \\cite{PlayAtariDeep} We discretize the input by packaging four frames into the neural network's input data structure as discussed by Max Lapin in his Medium Article Speeding up DQN on PyTorch: how to solve Pong in 30 minutes. \\cite{SpeedDQN}\n",
    "\n",
    "\\subsection*{Topology of the Net and Loss Functions}\n",
    "Our neural net uses three convolutional layers to process visual features in the input pixels. They have a kernel of 8x8, 4x4, and 3x3 respectively. The net is then flattened out and two dense layers follow with 512 neurons and 3 neurons respectively. ReLU is used for all the layers except for the last which is linear. We use the huber loss function.\n",
    "\n",
    "\\subsection*{Reinforcement Learning Algorithm}\n",
    "    We used a reinforcement learning approach to create our agent. This involved using DQN networks to approximate a $ Q^* $ function in a similar manner to Mnih et al.. \\cite{HumLevCon} Additionally, we employed an $\\epsilon$ greedy exploration approach. Our agent uses an offline learning method with replay memory in order to prevent catastrophic forgetting.\n",
    "    \n",
    "\\subsection*{Training}\n",
    "    We were able to train the agent for almost 82 hours (294661 seconds). This was well after $ \\epsilon $ reached its minimum during training. Because as $ \\epsilon $ approaches $ 0 $ the probability of choosing the action with the highest $ Q $ value increases, exploration had diminished by this point.\\cite{ReLer}"
   ]
  },
  {
   "cell_type": "raw",
   "metadata": {},
   "source": [
    "\\begin{figure}[htbp]\n",
    "    \\centerline{\\includegraphics[width=\\linewidth]{ep_vs_scr.png}}\n",
    "\\end{figure}"
   ]
  },
  {
   "cell_type": "raw",
   "metadata": {},
   "source": [
    "% RESULTS SECTION\n",
    "\\section{Results}\n",
    "\n",
    "Start typing here \\cite{AiGym}."
   ]
  },
  {
   "cell_type": "raw",
   "metadata": {},
   "source": [
    "% DISCUSSION SECTION\n",
    "\\section{Discussion}\n",
    "\n",
    "Start typing here \\cite{AiGym}."
   ]
  },
  {
   "cell_type": "raw",
   "metadata": {},
   "source": [
    "% REFERENCES\n",
    "% THIS IS CREATED AUTOMATICALLY\n",
    "\\bibliographystyle{IEEEtran}\n",
    "\\bibliography{References} % change if another name is used for References file"
   ]
  },
  {
   "cell_type": "raw",
   "metadata": {},
   "source": [
    "\\end{document}"
   ]
  }
 ],
 "metadata": {
  "kernelspec": {
   "display_name": "Python 3",
   "language": "python",
   "name": "python3"
  },
  "language_info": {
   "codemirror_mode": {
    "name": "ipython",
    "version": 3
   },
   "file_extension": ".py",
   "mimetype": "text/x-python",
   "name": "python",
   "nbconvert_exporter": "python",
   "pygments_lexer": "ipython3",
   "version": "3.5.3"
  }
 },
 "nbformat": 4,
 "nbformat_minor": 2
}
