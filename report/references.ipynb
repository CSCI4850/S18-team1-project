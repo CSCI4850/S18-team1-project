{
 "cells": [
  {
   "cell_type": "raw",
   "metadata": {},
   "source": [
    "@article{HumLevCon,\n",
    "  author = \"Volodymyr Mnih and Koray Kavukcuoglu and David Silver and Andrei A. Rusu and Joel Veness and Marc G. Bellemare and Alex Graves and Martin Riedmiller and Andreas K. Fidjeland and Georg Ostrovski and Stig Petersen and Charles Beattie and Amir Sadik and Ioannis Antonoglou and Helen King and Dharshan Kumaran and Daa Wierstra and Shane Legg and Demis Hassabis\",\n",
    "   title = \"Human-level control through deep reinforcement learning\",\n",
    " journal = \"Nature\",\n",
    "  volume = 518,\n",
    "    year = 2015,\n",
    "   pages = \"529--533\"\n",
    "}"
   ]
  },
  {
   "cell_type": "raw",
   "metadata": {},
   "source": [
    "@article{ALE,\n",
    "  author    = {\"Marc G. Bellemare and\n",
    "               Yavar Naddaf and\n",
    "               Joel Veness and\n",
    "               Michael Bowling\"},\n",
    "  title     = {\"The Arcade Learning Environment: An Evaluation Platform for General\n",
    "               Agents\"},\n",
    "  journal   = {CoRR},\n",
    "  volume    = {abs/1207.4708},\n",
    "  year      = {2012},\n",
    "  url       = {http://arxiv.org/abs/1207.4708},\n",
    "  archivePrefix = {arXiv},\n",
    "  eprint    = {1207.4708},\n",
    "  timestamp = {Wed, 07 Jun 2017 14:43:03 +0200},\n",
    "  biburl    = {https://dblp.org/rec/bib/journals/corr/abs-1207-4708},\n",
    "  bibsource = {dblp computer science bibliography, https://dblp.org}\n",
    "}"
   ]
  },
  {
   "cell_type": "raw",
   "metadata": {},
   "source": [
    "@article{AiGym,\n",
    "  author    = {Greg Brockman and\n",
    "               Vicki Cheung and\n",
    "               Ludwig Pettersson and\n",
    "               Jonas Schneider and\n",
    "               John Schulman and\n",
    "               Jie Tang and\n",
    "               Wojciech Zaremba},\n",
    "  title     = {OpenAI Gym},\n",
    "  journal   = {CoRR},\n",
    "  volume    = {abs/1606.01540},\n",
    "  year      = {2016},\n",
    "  url       = {http://arxiv.org/abs/1606.01540},\n",
    "  archivePrefix = {arXiv},\n",
    "  eprint    = {1606.01540},\n",
    "  timestamp = {Wed, 07 Jun 2017 14:41:24 +0200},\n",
    "  biburl    = {https://dblp.org/rec/bib/journals/corr/BrockmanCPSSTZ16},\n",
    "  bibsource = {dblp computer science bibliography, https://dblp.org}\n",
    "}"
   ]
  },
  {
   "cell_type": "raw",
   "metadata": {},
   "source": [
    "@book{ReLer,\n",
    "author = \"Richard S. Sutton and Andrew G. Barto\",\n",
    "title = \"Reinforcement Learning\",\n",
    "publisher = \"MIT Press\",\n",
    "month = \"February\",\n",
    "year = 1998,\n",
    "isbn = \"9780262193986\",\n",
    "note = \"OTHER URL https://mitpress.mit.edu/books/reinforcement-learning\",\n",
    "url = \"http://incompleteideas.net/book/ebook/the-book.html\"\n",
    "}"
   ]
  },
  {
   "cell_type": "raw",
   "metadata": {},
   "source": [
    "@misc{SpeedDQN,\n",
    "  author = \"Max Lapan\",\n",
    "   title = \"Speeding up DQN on PyTorch: how to solve Pong in 30 minutes\",\n",
    "   howpublished = \"article\",\n",
    " journal = \"Medium\",\n",
    "  day = 23,\n",
    "  month = \"November\",\n",
    "    year = 2017,\n",
    "   url = \"https://medium.com/mlreview/speeding-up-dqn-on-pytorch-solving-pong-in-30-minutes-81a1bd2dff55\"\n",
    "}"
   ]
  },
  {
   "cell_type": "raw",
   "metadata": {},
   "source": [
    "@article{PlayAtariDeep,\n",
    "  author    = {Volodymyr Mnih and\n",
    "               Koray Kavukcuoglu and\n",
    "               David Silver and\n",
    "               Alex Graves and\n",
    "               Ioannis Antonoglou and\n",
    "               Daan Wierstra and\n",
    "               Martin A. Riedmiller},\n",
    "  title     = {Playing Atari with Deep Reinforcement Learning},\n",
    "  journal   = {CoRR},\n",
    "  volume    = {abs/1312.5602},\n",
    "  day = 19,\n",
    "  month = {December},\n",
    "  year      = {2013},\n",
    "  url       = {http://arxiv.org/abs/1312.5602},\n",
    "  archivePrefix = {arXiv},\n",
    "  eprint    = {1312.5602},\n",
    "  timestamp = {Wed, 07 Jun 2017 14:43:06 +0200},\n",
    "  biburl    = {https://dblp.org/rec/bib/journals/corr/MnihKSGAWR13},\n",
    "  bibsource = {dblp computer science bibliography, https://dblp.org}\n",
    "}"
   ]
  },
  {
   "cell_type": "raw",
   "metadata": {},
   "source": [
    "@misc{SimplePlayAtariDeep,\n",
    "author = \"Agarwal, Aman\",\n",
    "title = \"Explained Simply: How DeepMind taught AI to play video games\",\n",
    "howpublished = \"article\",\n",
    "journal = \"Medium\",\n",
    "day = 27,\n",
    "month = \"August\",\n",
    "year = 2017,\n",
    "url = \"https://medium.freecodecamp.org/explained-simply-how-deepmind-taught-ai-to-play-video-games-9eb5f38c89ee\"\n",
    "}"
   ]
  },
  {
   "cell_type": "raw",
   "metadata": {},
   "source": [
    "@misc{MediumPong,\n",
    "author = \"Parthasarathy, Dhruv\",\n",
    "title = \"Write an AI to win at Pong from scratch with Reinforcement Learning\",\n",
    "howpublished = \"article\",\n",
    "journal = \"Medium\",\n",
    "% day just for comment purposes\n",
    "day = 25,\n",
    "month = \"September\",\n",
    "year = 2016,\n",
    "url = \"https://medium.com/@dhruvp/how-to-write-a-neural-network-to-play-pong-from-scratch-956b57d4f6e0\"\n",
    "}"
   ]
  },
  {
   "cell_type": "raw",
   "metadata": {},
   "source": [
    "@misc{BlogPong,\n",
    "author = \"Karpathy, Andrej\",\n",
    "title = \"Deep Reinforcement Learning: Pong from Pixels\",\n",
    "howpublished = \"blog\"\n",
    "journal = \"Andrej Karpathy blog\",\n",
    "% day just for comment purposes\n",
    "day = 31,\n",
    "month = \"May\",\n",
    "year = 2016,\n",
    "url = \"https://karpathy.github.io/2016/05/31/rl/\"\n",
    "}"
   ]
  },
  {
   "cell_type": "raw",
   "metadata": {},
   "source": [
    "@article{DeepLerVidGam,\n",
    "  author    = {Justesen, Niels and Bontrager, Philip and Togelius, Julian and Risi, Sebastian},\n",
    "  title     = {Deep Learning for Video Game Playing},\n",
    "  journal   = {Computing Research R},\n",
    "  volume    = {abs/1708.07902},\n",
    "  day = 25,\n",
    "  month = {August},\n",
    "  year      = {2017},\n",
    "  url       = {http://arxiv.org/abs/1708.07902},\n",
    "  archivePrefix = {arXiv},\n",
    "  eprint    = {1708.07902},\n",
    "  timestamp = {Tue, 05 Sep 2017 10:03:46 +0200},\n",
    "  biburl    = {https://dblp.org/rec/bib/journals/corr/abs-1708-07902},\n",
    "  bibsource = {dblp computer science bibliography, https://dblp.org}\n",
    "}"
   ]
  }
 ],
 "metadata": {
  "kernelspec": {
   "display_name": "Python 3",
   "language": "python",
   "name": "python3"
  },
  "language_info": {
   "codemirror_mode": {
    "name": "ipython",
    "version": 3
   },
   "file_extension": ".py",
   "mimetype": "text/x-python",
   "name": "python",
   "nbconvert_exporter": "python",
   "pygments_lexer": "ipython3",
   "version": "3.5.3"
  }
 },
 "nbformat": 4,
 "nbformat_minor": 2
}
