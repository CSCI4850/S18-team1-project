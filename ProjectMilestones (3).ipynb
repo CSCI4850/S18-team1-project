{
 "cells": [
  {
   "cell_type": "markdown",
   "metadata": {},
   "source": [
    "### Project Milestone 1\n",
    "\n",
    "| Deliverable | Percent Complete | Estivated Completion Date | Percent Complete by Next Milestone|\n",
    "|:----------- |:---------------- |:------------------------- |:--------------------------------- |\n",
    "| Code | 50% | Apr. 12 | 80% |\n",
    "| Paper | 0% | Apr. 17 | 30% |\n",
    "| Demo | 0% | Apr. 26 | 10% |\n",
    "| Presentation | 0% | Apr. 26 | 10% |\n",
    "\n",
    "1. Since the beginning of the project, our group has a python program that will run the game, and a first draft of a DQN agent.\n",
    "\n",
    "2. There were no goals set for this milestone.\n",
    "\n",
    "3. Adam, Patrick, and Eric will be working on finishing the DQN agent and getting the code to the training stage.\n",
    "    \n",
    "    Kevin, Ben, and Garret will be working on researching for the paper, demo, and presentation.  The goal is to get each of those items through the broader portion of the research phase.  For the demo and presentation we will be brainstorming and researching effective formating styles for both.\n",
    "    \n"
   ]
  },
  {
   "cell_type": "markdown",
   "metadata": {},
   "source": [
    "### Project Milestone 2\n",
    "\n",
    "| Deliverable | Percent Complete | Estivated Completion Date | Percent Complete by Next Milestone|\n",
    "|:----------- |:---------------- |:------------------------- |:--------------------------------- |\n",
    "| Code | 70% | Apr. 12 | 90% |\n",
    "| Paper | 10% | Apr. 17 | 80% |\n",
    "| Demo | 0% | Apr. 26 | 30% |\n",
    "| Presentation | 0% | Apr. 26 | 20% |\n",
    "\n",
    "1.  We have begun selecting weights and training the neural net.  We have begun to compile research for the paper and presentation.\n",
    "\n",
    "2.  We still are not agreed on how to demo and present the project.\n",
    "\n",
    "3.  Adam, Patrick, and Eric will be working on finishing up the code side of the project.\n",
    "    Kevin, Ben, and Garret will be working on getting rough draft of the paper together, and applying that information to the presentation.  We will also work toward a decision on how to demo the project."
   ]
  },
  {
   "cell_type": "markdown",
   "metadata": {},
   "source": [
    "### Project Milestone 3\n",
    "\n",
    "| Deliverable | Percent Complete | Estivated Completion Date | Percent Complete by Next Milestone|\n",
    "|:----------- |:---------------- |:------------------------- |:--------------------------------- |\n",
    "| Code | 90% | Apr. 26 | 100% |\n",
    "| Paper | 20% | Apr. 17 | 80% |\n",
    "| Demo | 0% | Apr. 26 | 100% |\n",
    "| Presentation | 0% | Apr. 26 | 50% |\n",
    "\n",
    "1.  The code is nearly finished.  We are beginning to outline the paper.\n",
    "\n",
    "2.  We are not as far into the paper as initially planned.  The demo will start coming together as soon as the code is done.\n",
    "\n",
    "3.  The goal is to be putting the finishing touches on everything not due by the next milestone."
   ]
  },
  {
   "cell_type": "markdown",
   "metadata": {},
   "source": [
    "### Project Milestone 4\n",
    "\n",
    "| Deliverable | Percent Complete | Estivated Completion Date | Percent Complete by Next Milestone|\n",
    "|:----------- |:---------------- |:------------------------- |:--------------------------------- |\n",
    "| Code | 100% | N/A | N/A |\n",
    "| Paper | 100% | N/A | N/A |\n",
    "| Demo | 30% | May 1 | N/A |\n",
    "| Presentation | 50% | May 1 | N/A |\n",
    "\n",
    "1. Since the last milestone, the paper was completed, per the due date, we have all the information for the presentation, the code is completely finsihed, and with the code finished we have begun work on the demo.\n",
    "2. All the goals of the last milestone were accomplished.\n",
    "3. We will be completing the project soon, with the goal of meeting a couple of days before the presentation to practice."
   ]
  },
  {
   "cell_type": "code",
   "execution_count": null,
   "metadata": {},
   "outputs": [],
   "source": []
  }
 ],
 "metadata": {
  "kernelspec": {
   "display_name": "Python 3",
   "language": "python",
   "name": "python3"
  },
  "language_info": {
   "codemirror_mode": {
    "name": "ipython",
    "version": 3
   },
   "file_extension": ".py",
   "mimetype": "text/x-python",
   "name": "python",
   "nbconvert_exporter": "python",
   "pygments_lexer": "ipython3",
   "version": "3.5.3"
  }
 },
 "nbformat": 4,
 "nbformat_minor": 2
}
